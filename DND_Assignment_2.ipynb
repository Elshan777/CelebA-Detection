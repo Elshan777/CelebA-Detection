{
  "nbformat": 4,
  "nbformat_minor": 0,
  "metadata": {
    "colab": {
      "name": "DND Assignment 2",
      "provenance": [],
      "collapsed_sections": [],
      "include_colab_link": true
    },
    "kernelspec": {
      "name": "python3",
      "display_name": "Python 3"
    },
    "language_info": {
      "name": "python"
    }
  },
  "cells": [
    {
      "cell_type": "markdown",
      "metadata": {
        "id": "view-in-github",
        "colab_type": "text"
      },
      "source": [
        "<a href=\"https://colab.research.google.com/github/Elshan777/CelebA-Detection/blob/master/DND_Assignment_2.ipynb\" target=\"_parent\"><img src=\"https://colab.research.google.com/assets/colab-badge.svg\" alt=\"Open In Colab\"/></a>"
      ]
    },
    {
      "cell_type": "markdown",
      "metadata": {
        "id": "9xPfgTCxpev8"
      },
      "source": [
        "# Assignment 2 - Object Detection | Semantic Segmentation\n",
        "\n",
        "This notebook contains the required task for the second assignment of the Deep Network Development course. Read the task description and implement the empty code cells. Each section represents a stage along implementing your task [Object Detection or Semantic Segmantation], from loading and inspecting the dataset to testing a **pre-trained** model. The sections are to guide you but you do not have to follow that specific order. \n",
        "\n",
        "Copy this notebook to your drive (File -> Save a copy in Drive), edit it and upload the final ipynb file to [Canvas](https://canvas.elte.hu) or upload the link to the Colab notebook itself. If you have your own machine with Jupyter installed, you can work there as well.\n",
        "\n",
        "**Note** Make sure the notebook is using GPU accelerataion in Edit -> Notebook settings, otherwise inference can be very slow.\n",
        "\n",
        "## Rules and Comments\n",
        "- From the list of datasets and tasks listed in canvas, each student was atributed **1 task and 1 dataset** to use within this assignment. Please confirm yours in the Canvas assignment's description. \n",
        "- The emphasis of this assignment is put in the way you use and compare the different models. The metrics you present are very important.\n",
        "- As always, copying others' code will make you fail the homework automatically (and thus the course). \n",
        "- **Deadline is April 24**\n",
        "- Make sure your code can be run from an empty state (use Runtime -> Run all in the menu after restarting the notebook)\n",
        "- Feel free to add more code cells as needed. But don't put code into external Python files to ease the reviewing.\n",
        "- Please add your name and Neptun ID below for easier identification.\n",
        "\n",
        "**Name:**  \n",
        "**Neptun ID:** \n",
        "\n",
        "## Task description\n",
        "Given your task (Semantic Segmentation or Object Detection), you have to test three (3) pretrained models on the test set of a given dataset, comparing the results between the models. For the comparison, you have to use at least three (3) metrics commonly used in your task.\n",
        "\n",
        "For example, if student A is given Object Detection task and the Ballons v2 dataset, then his/her task is to choose 3 pretrained object detection models [R-CNN, YOLO, ...] and evaluate them on the Ballons v2 test set, comparing the results using 3 metrics [mAP, Recall, ...]. If a dataset does not have a testing set, then the student should split at least 10% of the training set to create the test set.\n",
        "\n",
        "For running test/evaluation/inference on a pre-trained model, it is important to know what are the model requirements, so that the input is preprocessed accordingly.\n",
        "Make sure to explore the data and **present detailed evaluation metrics**.\n",
        "\n",
        "**Please answer the questions.**\n",
        "\n"
      ]
    },
    {
      "cell_type": "markdown",
      "metadata": {
        "id": "vR0con3OuFBM"
      },
      "source": [
        "## 0. Import libraries\n",
        "Import all libraries/packages that you believe will help you fulfil the task, but **for the network only PyTorch can be used.**"
      ]
    },
    {
      "cell_type": "code",
      "metadata": {
        "id": "lyGWby4VpNMC"
      },
      "source": [
        "# ADD YOUR CODE HERE"
      ],
      "execution_count": null,
      "outputs": []
    },
    {
      "cell_type": "markdown",
      "metadata": {
        "id": "o1tucmxFuklk"
      },
      "source": [
        "## 1. Dataset \n",
        "Load the dataset you were given. If your data does not have a test set, split a portion of your training set (at least 10%).\n",
        "Explore the dataset by visualizing the images and annotations.\n"
      ]
    },
    {
      "cell_type": "markdown",
      "metadata": {
        "id": "ossmpkq9vfrL"
      },
      "source": [
        "#### Loading the dataset\n",
        "Show some images and annotations of your dataset"
      ]
    },
    {
      "cell_type": "code",
      "metadata": {
        "id": "5ng7Hn_gul3J"
      },
      "source": [
        "# ADD YOUR CODE HERE"
      ],
      "execution_count": null,
      "outputs": []
    },
    {
      "cell_type": "markdown",
      "metadata": {
        "id": "GzvWV5SFv4Ml"
      },
      "source": [
        "#### Pre-processing the dataset"
      ]
    },
    {
      "cell_type": "code",
      "metadata": {
        "id": "V4G98dyQv20o"
      },
      "source": [
        "# ADD YOUR CODE HERE"
      ],
      "execution_count": null,
      "outputs": []
    },
    {
      "cell_type": "markdown",
      "metadata": {
        "id": "XG9jrKpRw-xN"
      },
      "source": [
        "## 2. Models\n",
        "Load the 3 chosen models for your given task. Show the model's architecture."
      ]
    },
    {
      "cell_type": "markdown",
      "metadata": {
        "id": "_NujskvGUKuD"
      },
      "source": [
        "### Question 1\n",
        "Describe the main differences between the models you chose."
      ]
    },
    {
      "cell_type": "markdown",
      "metadata": {
        "id": "S0Rhq3msWBRw"
      },
      "source": [
        "ADD ANSWER HERE"
      ]
    },
    {
      "cell_type": "markdown",
      "metadata": {
        "id": "5sgTC3NxxxRx"
      },
      "source": [
        "#### Load the models\n",
        "Show the architectures"
      ]
    },
    {
      "cell_type": "code",
      "metadata": {
        "id": "GAmr4k_Rx3QF"
      },
      "source": [
        "# ADD YOUR CODE HERE"
      ],
      "execution_count": null,
      "outputs": []
    },
    {
      "cell_type": "markdown",
      "metadata": {
        "id": "-wL-oYMJyKAU"
      },
      "source": [
        "## 3. Evaluation\n",
        "This is the most important part. Please give a detailed comparison between the models.\n",
        "\n",
        "**Implement your metrics manually**. Do not use pre defined Pytorch metrics.\n",
        "\n",
        "Calculate the metrics for each model on the test set.\n",
        "\n",
        "Plot the metrics.\n",
        "\n",
        "Show some predictions in comparison to the ground truth."
      ]
    },
    {
      "cell_type": "markdown",
      "metadata": {
        "id": "91bFm41IzLMr"
      },
      "source": [
        "#### Evaluate your models"
      ]
    },
    {
      "cell_type": "code",
      "metadata": {
        "id": "urDwdgZUyMZQ"
      },
      "source": [
        "# ADD YOUR CODE HERE"
      ],
      "execution_count": null,
      "outputs": []
    },
    {
      "cell_type": "markdown",
      "metadata": {
        "id": "oTS-BNCYWMgu"
      },
      "source": [
        "#### Show the metrics results"
      ]
    },
    {
      "cell_type": "code",
      "metadata": {
        "id": "EZVK2-DwWUKa"
      },
      "source": [
        "# ADD YOUR CODE HERE"
      ],
      "execution_count": null,
      "outputs": []
    },
    {
      "cell_type": "markdown",
      "metadata": {
        "id": "ZYwVBU9LzOHN"
      },
      "source": [
        "#### Show some predictions"
      ]
    },
    {
      "cell_type": "code",
      "metadata": {
        "id": "jNV0J9LKzPse"
      },
      "source": [
        "# ADD YOUR CODE HERE"
      ],
      "execution_count": null,
      "outputs": []
    },
    {
      "cell_type": "markdown",
      "metadata": {
        "id": "_FqV0w_vWkDB"
      },
      "source": [
        "## 4. Conclusion"
      ]
    },
    {
      "cell_type": "markdown",
      "metadata": {
        "id": "4sFvmHPRzQSI"
      },
      "source": [
        "### Answer the questions\n",
        "#### Question 2. \n",
        "Which model performed the best? Why do you think it performed better than others?\n",
        "\n",
        "#### Question 3. \n",
        "How could you improve the performance of the models?"
      ]
    },
    {
      "cell_type": "markdown",
      "metadata": {
        "id": "dcqbEXOiXQuS"
      },
      "source": [
        "ADD ANSWERS HERE"
      ]
    }
  ]
}